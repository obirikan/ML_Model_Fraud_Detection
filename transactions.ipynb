{
 "cells": [
  {
   "cell_type": "markdown",
   "id": "a9f72507",
   "metadata": {},
   "source": [
    "## Load & Explore the Data"
   ]
  },
  {
   "cell_type": "code",
   "execution_count": 168,
   "id": "181ca2a1",
   "metadata": {},
   "outputs": [
    {
     "data": {
      "application/vnd.microsoft.datawrangler.viewer.v0+json": {
       "columns": [
        {
         "name": "index",
         "rawType": "int64",
         "type": "integer"
        },
        {
         "name": "step",
         "rawType": "int64",
         "type": "integer"
        },
        {
         "name": "type",
         "rawType": "object",
         "type": "string"
        },
        {
         "name": "amount",
         "rawType": "float64",
         "type": "float"
        },
        {
         "name": "nameOrig",
         "rawType": "object",
         "type": "string"
        },
        {
         "name": "oldbalanceOrg",
         "rawType": "float64",
         "type": "float"
        },
        {
         "name": "newbalanceOrig",
         "rawType": "float64",
         "type": "float"
        },
        {
         "name": "nameDest",
         "rawType": "object",
         "type": "string"
        },
        {
         "name": "oldbalanceDest",
         "rawType": "float64",
         "type": "float"
        },
        {
         "name": "newbalanceDest",
         "rawType": "float64",
         "type": "float"
        },
        {
         "name": "isFraud",
         "rawType": "int64",
         "type": "integer"
        }
       ],
       "ref": "b5dc0b86-18b5-4d6c-9cb4-e6bde172c19c",
       "rows": [
        [
         "0",
         "8",
         "CASH_OUT",
         "158007.12",
         "C424875646",
         "0.0",
         "0.0",
         "C1298177219",
         "474016.32",
         "1618631.97",
         "0"
        ],
        [
         "1",
         "236",
         "CASH_OUT",
         "457948.3",
         "C1342616552",
         "0.0",
         "0.0",
         "C1323169990",
         "2720411.37",
         "3178359.67",
         "0"
        ],
        [
         "2",
         "37",
         "CASH_IN",
         "153602.99",
         "C900876541",
         "11160428.67",
         "11314031.67",
         "C608741097",
         "3274930.56",
         "3121327.56",
         "0"
        ],
        [
         "3",
         "331",
         "CASH_OUT",
         "49555.14",
         "C177696810",
         "10865.0",
         "0.0",
         "C462716348",
         "0.0",
         "49555.14",
         "0"
        ],
        [
         "4",
         "250",
         "CASH_OUT",
         "29648.02",
         "C788941490",
         "0.0",
         "0.0",
         "C1971700992",
         "56933.09",
         "86581.1",
         "0"
        ]
       ],
       "shape": {
        "columns": 10,
        "rows": 5
       }
      },
      "text/html": [
       "<div>\n",
       "<style scoped>\n",
       "    .dataframe tbody tr th:only-of-type {\n",
       "        vertical-align: middle;\n",
       "    }\n",
       "\n",
       "    .dataframe tbody tr th {\n",
       "        vertical-align: top;\n",
       "    }\n",
       "\n",
       "    .dataframe thead th {\n",
       "        text-align: right;\n",
       "    }\n",
       "</style>\n",
       "<table border=\"1\" class=\"dataframe\">\n",
       "  <thead>\n",
       "    <tr style=\"text-align: right;\">\n",
       "      <th></th>\n",
       "      <th>step</th>\n",
       "      <th>type</th>\n",
       "      <th>amount</th>\n",
       "      <th>nameOrig</th>\n",
       "      <th>oldbalanceOrg</th>\n",
       "      <th>newbalanceOrig</th>\n",
       "      <th>nameDest</th>\n",
       "      <th>oldbalanceDest</th>\n",
       "      <th>newbalanceDest</th>\n",
       "      <th>isFraud</th>\n",
       "    </tr>\n",
       "  </thead>\n",
       "  <tbody>\n",
       "    <tr>\n",
       "      <th>0</th>\n",
       "      <td>8</td>\n",
       "      <td>CASH_OUT</td>\n",
       "      <td>158007.12</td>\n",
       "      <td>C424875646</td>\n",
       "      <td>0.00</td>\n",
       "      <td>0.00</td>\n",
       "      <td>C1298177219</td>\n",
       "      <td>474016.32</td>\n",
       "      <td>1618631.97</td>\n",
       "      <td>0</td>\n",
       "    </tr>\n",
       "    <tr>\n",
       "      <th>1</th>\n",
       "      <td>236</td>\n",
       "      <td>CASH_OUT</td>\n",
       "      <td>457948.30</td>\n",
       "      <td>C1342616552</td>\n",
       "      <td>0.00</td>\n",
       "      <td>0.00</td>\n",
       "      <td>C1323169990</td>\n",
       "      <td>2720411.37</td>\n",
       "      <td>3178359.67</td>\n",
       "      <td>0</td>\n",
       "    </tr>\n",
       "    <tr>\n",
       "      <th>2</th>\n",
       "      <td>37</td>\n",
       "      <td>CASH_IN</td>\n",
       "      <td>153602.99</td>\n",
       "      <td>C900876541</td>\n",
       "      <td>11160428.67</td>\n",
       "      <td>11314031.67</td>\n",
       "      <td>C608741097</td>\n",
       "      <td>3274930.56</td>\n",
       "      <td>3121327.56</td>\n",
       "      <td>0</td>\n",
       "    </tr>\n",
       "    <tr>\n",
       "      <th>3</th>\n",
       "      <td>331</td>\n",
       "      <td>CASH_OUT</td>\n",
       "      <td>49555.14</td>\n",
       "      <td>C177696810</td>\n",
       "      <td>10865.00</td>\n",
       "      <td>0.00</td>\n",
       "      <td>C462716348</td>\n",
       "      <td>0.00</td>\n",
       "      <td>49555.14</td>\n",
       "      <td>0</td>\n",
       "    </tr>\n",
       "    <tr>\n",
       "      <th>4</th>\n",
       "      <td>250</td>\n",
       "      <td>CASH_OUT</td>\n",
       "      <td>29648.02</td>\n",
       "      <td>C788941490</td>\n",
       "      <td>0.00</td>\n",
       "      <td>0.00</td>\n",
       "      <td>C1971700992</td>\n",
       "      <td>56933.09</td>\n",
       "      <td>86581.10</td>\n",
       "      <td>0</td>\n",
       "    </tr>\n",
       "  </tbody>\n",
       "</table>\n",
       "</div>"
      ],
      "text/plain": [
       "   step      type     amount     nameOrig  oldbalanceOrg  newbalanceOrig  \\\n",
       "0     8  CASH_OUT  158007.12   C424875646           0.00            0.00   \n",
       "1   236  CASH_OUT  457948.30  C1342616552           0.00            0.00   \n",
       "2    37   CASH_IN  153602.99   C900876541    11160428.67     11314031.67   \n",
       "3   331  CASH_OUT   49555.14   C177696810       10865.00            0.00   \n",
       "4   250  CASH_OUT   29648.02   C788941490           0.00            0.00   \n",
       "\n",
       "      nameDest  oldbalanceDest  newbalanceDest  isFraud  \n",
       "0  C1298177219       474016.32      1618631.97        0  \n",
       "1  C1323169990      2720411.37      3178359.67        0  \n",
       "2   C608741097      3274930.56      3121327.56        0  \n",
       "3   C462716348            0.00        49555.14        0  \n",
       "4  C1971700992        56933.09        86581.10        0  "
      ]
     },
     "execution_count": 168,
     "metadata": {},
     "output_type": "execute_result"
    }
   ],
   "source": [
    "import seaborn as sns\n",
    "import pandas as pd\n",
    "import numpy as np\n",
    "import matplotlib.pyplot as plt\n",
    "from sklearn.linear_model import LogisticRegression\n",
    "from sklearn.model_selection import train_test_split,cross_val_score,KFold\n",
    "from sklearn.preprocessing import StandardScaler\n",
    "from sklearn.metrics import precision_score,confusion_matrix,classification_report,f1_score\n",
    "\n",
    "# Load the data\n",
    "transactions = pd.read_csv('dataset/transactions.csv')\n",
    "transactions.head()"
   ]
  },
  {
   "cell_type": "markdown",
   "id": "0908b722",
   "metadata": {},
   "source": [
    "## Transactions Info"
   ]
  },
  {
   "cell_type": "code",
   "execution_count": 169,
   "id": "46d0a003",
   "metadata": {},
   "outputs": [
    {
     "name": "stdout",
     "output_type": "stream",
     "text": [
      "<class 'pandas.core.frame.DataFrame'>\n",
      "RangeIndex: 199999 entries, 0 to 199998\n",
      "Data columns (total 10 columns):\n",
      " #   Column          Non-Null Count   Dtype  \n",
      "---  ------          --------------   -----  \n",
      " 0   step            199999 non-null  int64  \n",
      " 1   type            199999 non-null  object \n",
      " 2   amount          199999 non-null  float64\n",
      " 3   nameOrig        199999 non-null  object \n",
      " 4   oldbalanceOrg   199999 non-null  float64\n",
      " 5   newbalanceOrig  199999 non-null  float64\n",
      " 6   nameDest        199999 non-null  object \n",
      " 7   oldbalanceDest  199999 non-null  float64\n",
      " 8   newbalanceDest  199999 non-null  float64\n",
      " 9   isFraud         199999 non-null  int64  \n",
      "dtypes: float64(5), int64(2), object(3)\n",
      "memory usage: 15.3+ MB\n"
     ]
    }
   ],
   "source": [
    "transactions.info()"
   ]
  },
  {
   "cell_type": "markdown",
   "id": "9328496f",
   "metadata": {},
   "source": [
    "# Summary statistics on amount column"
   ]
  },
  {
   "cell_type": "code",
   "execution_count": 170,
   "id": "bc54e45f",
   "metadata": {},
   "outputs": [
    {
     "data": {
      "application/vnd.microsoft.datawrangler.viewer.v0+json": {
       "columns": [
        {
         "name": "index",
         "rawType": "object",
         "type": "string"
        },
        {
         "name": "amount",
         "rawType": "float64",
         "type": "float"
        }
       ],
       "ref": "4b40d4fa-26a2-4597-91b3-2008f32aa35a",
       "rows": [
        [
         "count",
         "199999.0"
        ],
        [
         "mean",
         "180242.48687258438"
        ],
        [
         "std",
         "625548.2267731397"
        ],
        [
         "min",
         "0.0"
        ],
        [
         "25%",
         "13387.46"
        ],
        [
         "50%",
         "74266.95"
        ],
        [
         "75%",
         "208637.58"
        ],
        [
         "max",
         "52042803.47"
        ]
       ],
       "shape": {
        "columns": 1,
        "rows": 8
       }
      },
      "text/plain": [
       "count    1.999990e+05\n",
       "mean     1.802425e+05\n",
       "std      6.255482e+05\n",
       "min      0.000000e+00\n",
       "25%      1.338746e+04\n",
       "50%      7.426695e+04\n",
       "75%      2.086376e+05\n",
       "max      5.204280e+07\n",
       "Name: amount, dtype: float64"
      ]
     },
     "execution_count": 170,
     "metadata": {},
     "output_type": "execute_result"
    }
   ],
   "source": [
    "transactions['amount'].describe()"
   ]
  },
  {
   "cell_type": "markdown",
   "id": "eb21101a",
   "metadata": {},
   "source": [
    "## Checking for null Features"
   ]
  },
  {
   "cell_type": "code",
   "execution_count": 171,
   "id": "cef2c908",
   "metadata": {},
   "outputs": [
    {
     "data": {
      "application/vnd.microsoft.datawrangler.viewer.v0+json": {
       "columns": [
        {
         "name": "index",
         "rawType": "object",
         "type": "string"
        },
        {
         "name": "0",
         "rawType": "int64",
         "type": "integer"
        }
       ],
       "ref": "9776c00f-7c8a-4ac1-8952-76c716a7e8aa",
       "rows": [
        [
         "step",
         "0"
        ],
        [
         "type",
         "0"
        ],
        [
         "amount",
         "0"
        ],
        [
         "nameOrig",
         "0"
        ],
        [
         "oldbalanceOrg",
         "0"
        ],
        [
         "newbalanceOrig",
         "0"
        ],
        [
         "nameDest",
         "0"
        ],
        [
         "oldbalanceDest",
         "0"
        ],
        [
         "newbalanceDest",
         "0"
        ],
        [
         "isFraud",
         "0"
        ]
       ],
       "shape": {
        "columns": 1,
        "rows": 10
       }
      },
      "text/plain": [
       "step              0\n",
       "type              0\n",
       "amount            0\n",
       "nameOrig          0\n",
       "oldbalanceOrg     0\n",
       "newbalanceOrig    0\n",
       "nameDest          0\n",
       "oldbalanceDest    0\n",
       "newbalanceDest    0\n",
       "isFraud           0\n",
       "dtype: int64"
      ]
     },
     "execution_count": 171,
     "metadata": {},
     "output_type": "execute_result"
    }
   ],
   "source": [
    "transactions.isnull().sum()"
   ]
  },
  {
   "cell_type": "markdown",
   "id": "3963cb89",
   "metadata": {},
   "source": [
    "## Feature Engineering"
   ]
  },
  {
   "cell_type": "code",
   "execution_count": 172,
   "id": "4e83c933",
   "metadata": {},
   "outputs": [
    {
     "data": {
      "application/vnd.microsoft.datawrangler.viewer.v0+json": {
       "columns": [
        {
         "name": "index",
         "rawType": "int64",
         "type": "integer"
        },
        {
         "name": "isPayment",
         "rawType": "int64",
         "type": "integer"
        },
        {
         "name": "isMovement",
         "rawType": "int64",
         "type": "integer"
        },
        {
         "name": "accountDiff",
         "rawType": "float64",
         "type": "float"
        }
       ],
       "ref": "fe0a51e3-75d1-4a52-a23c-a7e72e8d7619",
       "rows": [
        [
         "0",
         "0",
         "1",
         "474016.32"
        ],
        [
         "1",
         "0",
         "1",
         "2720411.37"
        ],
        [
         "2",
         "0",
         "0",
         "7885498.109999999"
        ],
        [
         "3",
         "0",
         "1",
         "10865.0"
        ],
        [
         "4",
         "0",
         "1",
         "56933.09"
        ],
        [
         "5",
         "1",
         "0",
         "13981.0"
        ],
        [
         "6",
         "1",
         "0",
         "283349.71"
        ],
        [
         "7",
         "1",
         "0",
         "0.0"
        ],
        [
         "8",
         "1",
         "0",
         "503065.44"
        ],
        [
         "9",
         "0",
         "1",
         "22275.16"
        ],
        [
         "10",
         "0",
         "1",
         "9713.0"
        ],
        [
         "11",
         "1",
         "0",
         "322562.56"
        ],
        [
         "12",
         "0",
         "0",
         "4570918.49"
        ],
        [
         "13",
         "0",
         "1",
         "1103863.99"
        ],
        [
         "14",
         "0",
         "1",
         "581740.44"
        ],
        [
         "15",
         "0",
         "0",
         "420241.05000000005"
        ],
        [
         "16",
         "1",
         "0",
         "0.0"
        ],
        [
         "17",
         "0",
         "1",
         "10229.0"
        ],
        [
         "18",
         "0",
         "0",
         "8915.0"
        ],
        [
         "19",
         "1",
         "0",
         "9812.0"
        ],
        [
         "20",
         "1",
         "0",
         "121549.0"
        ],
        [
         "21",
         "0",
         "0",
         "4584099.100000001"
        ],
        [
         "22",
         "1",
         "0",
         "10205.0"
        ],
        [
         "23",
         "0",
         "1",
         "99982.0"
        ],
        [
         "24",
         "0",
         "1",
         "613344.46"
        ],
        [
         "25",
         "0",
         "0",
         "10634605.33"
        ],
        [
         "26",
         "0",
         "1",
         "7636558.15"
        ],
        [
         "27",
         "1",
         "0",
         "0.0"
        ],
        [
         "28",
         "1",
         "0",
         "19372.0"
        ],
        [
         "29",
         "0",
         "1",
         "2706694.35"
        ],
        [
         "30",
         "1",
         "0",
         "1893.0"
        ],
        [
         "31",
         "1",
         "0",
         "0.0"
        ],
        [
         "32",
         "0",
         "1",
         "155653.53"
        ],
        [
         "33",
         "0",
         "0",
         "22900.64"
        ],
        [
         "34",
         "0",
         "1",
         "448272.38"
        ],
        [
         "35",
         "0",
         "0",
         "4506166.03"
        ],
        [
         "36",
         "1",
         "0",
         "0.0"
        ],
        [
         "37",
         "0",
         "1",
         "159918.0"
        ],
        [
         "38",
         "1",
         "0",
         "2289.0"
        ],
        [
         "39",
         "1",
         "0",
         "10882.0"
        ],
        [
         "40",
         "0",
         "1",
         "4880088.8"
        ],
        [
         "41",
         "0",
         "1",
         "1634129.43"
        ],
        [
         "42",
         "1",
         "0",
         "124678.0"
        ],
        [
         "43",
         "0",
         "0",
         "4104300.42"
        ],
        [
         "44",
         "1",
         "0",
         "0.0"
        ],
        [
         "45",
         "0",
         "1",
         "659582.0"
        ],
        [
         "46",
         "0",
         "0",
         "51338.17"
        ],
        [
         "47",
         "0",
         "1",
         "144133.0"
        ],
        [
         "48",
         "0",
         "1",
         "988754.77"
        ],
        [
         "49",
         "1",
         "0",
         "11607.0"
        ]
       ],
       "shape": {
        "columns": 3,
        "rows": 199999
       }
      },
      "text/html": [
       "<div>\n",
       "<style scoped>\n",
       "    .dataframe tbody tr th:only-of-type {\n",
       "        vertical-align: middle;\n",
       "    }\n",
       "\n",
       "    .dataframe tbody tr th {\n",
       "        vertical-align: top;\n",
       "    }\n",
       "\n",
       "    .dataframe thead th {\n",
       "        text-align: right;\n",
       "    }\n",
       "</style>\n",
       "<table border=\"1\" class=\"dataframe\">\n",
       "  <thead>\n",
       "    <tr style=\"text-align: right;\">\n",
       "      <th></th>\n",
       "      <th>isPayment</th>\n",
       "      <th>isMovement</th>\n",
       "      <th>accountDiff</th>\n",
       "    </tr>\n",
       "  </thead>\n",
       "  <tbody>\n",
       "    <tr>\n",
       "      <th>0</th>\n",
       "      <td>0</td>\n",
       "      <td>1</td>\n",
       "      <td>474016.32</td>\n",
       "    </tr>\n",
       "    <tr>\n",
       "      <th>1</th>\n",
       "      <td>0</td>\n",
       "      <td>1</td>\n",
       "      <td>2720411.37</td>\n",
       "    </tr>\n",
       "    <tr>\n",
       "      <th>2</th>\n",
       "      <td>0</td>\n",
       "      <td>0</td>\n",
       "      <td>7885498.11</td>\n",
       "    </tr>\n",
       "    <tr>\n",
       "      <th>3</th>\n",
       "      <td>0</td>\n",
       "      <td>1</td>\n",
       "      <td>10865.00</td>\n",
       "    </tr>\n",
       "    <tr>\n",
       "      <th>4</th>\n",
       "      <td>0</td>\n",
       "      <td>1</td>\n",
       "      <td>56933.09</td>\n",
       "    </tr>\n",
       "    <tr>\n",
       "      <th>...</th>\n",
       "      <td>...</td>\n",
       "      <td>...</td>\n",
       "      <td>...</td>\n",
       "    </tr>\n",
       "    <tr>\n",
       "      <th>199994</th>\n",
       "      <td>1</td>\n",
       "      <td>0</td>\n",
       "      <td>69376.00</td>\n",
       "    </tr>\n",
       "    <tr>\n",
       "      <th>199995</th>\n",
       "      <td>0</td>\n",
       "      <td>1</td>\n",
       "      <td>40423.00</td>\n",
       "    </tr>\n",
       "    <tr>\n",
       "      <th>199996</th>\n",
       "      <td>0</td>\n",
       "      <td>0</td>\n",
       "      <td>2588672.49</td>\n",
       "    </tr>\n",
       "    <tr>\n",
       "      <th>199997</th>\n",
       "      <td>0</td>\n",
       "      <td>0</td>\n",
       "      <td>1429025.02</td>\n",
       "    </tr>\n",
       "    <tr>\n",
       "      <th>199998</th>\n",
       "      <td>0</td>\n",
       "      <td>1</td>\n",
       "      <td>21328.00</td>\n",
       "    </tr>\n",
       "  </tbody>\n",
       "</table>\n",
       "<p>199999 rows × 3 columns</p>\n",
       "</div>"
      ],
      "text/plain": [
       "        isPayment  isMovement  accountDiff\n",
       "0               0           1    474016.32\n",
       "1               0           1   2720411.37\n",
       "2               0           0   7885498.11\n",
       "3               0           1     10865.00\n",
       "4               0           1     56933.09\n",
       "...           ...         ...          ...\n",
       "199994          1           0     69376.00\n",
       "199995          0           1     40423.00\n",
       "199996          0           0   2588672.49\n",
       "199997          0           0   1429025.02\n",
       "199998          0           1     21328.00\n",
       "\n",
       "[199999 rows x 3 columns]"
      ]
     },
     "execution_count": 172,
     "metadata": {},
     "output_type": "execute_result"
    }
   ],
   "source": [
    "# creating isPayment field\n",
    "transactions['isPayment'] = [1 if x in ['PAYMENT','DEBIT'] else 0 for x in transactions['type']]\n",
    "\n",
    "# Creatin isMovement field\n",
    "transactions['isMovement'] = [1 if x in ['CASH_OUT','TRANSFER'] else 0 for x in transactions['type']]\n",
    "\n",
    "# Creating accountDiff field\n",
    "transactions['accountDiff'] = abs(transactions['oldbalanceDest'] - transactions['oldbalanceOrg'])\n",
    "\n",
    "transactions[['isPayment','isMovement','accountDiff']]"
   ]
  },
  {
   "cell_type": "markdown",
   "id": "91b0edc6",
   "metadata": {},
   "source": [
    "## Model Training"
   ]
  },
  {
   "cell_type": "code",
   "execution_count": 173,
   "id": "8c430d6c",
   "metadata": {},
   "outputs": [],
   "source": [
    "# features and label variables\n",
    "features = transactions[['amount','isPayment','isMovement','accountDiff']] # x\n",
    "\n",
    "label = transactions['isFraud'] # y\n",
    "\n",
    "# Split dataset\n",
    "X_train, X_test, y_train, y_test = train_test_split(features, \n",
    "                                                    label, \n",
    "                                                    test_size=0.3,random_state=42)"
   ]
  },
  {
   "cell_type": "markdown",
   "id": "7026fc80",
   "metadata": {},
   "source": [
    "\n",
    "## Normalizing the features variables"
   ]
  },
  {
   "cell_type": "code",
   "execution_count": 174,
   "id": "acf3e418",
   "metadata": {},
   "outputs": [
    {
     "name": "stdout",
     "output_type": "stream",
     "text": [
      "(139999, 4) (139999,)\n"
     ]
    }
   ],
   "source": [
    "scaler = StandardScaler()\n",
    "\n",
    "X_train_scaled = scaler.fit_transform(X_train)\n",
    "\n",
    "X_test_scaled = scaler.transform(X_test)\n",
    "\n",
    "print(X_train_scaled.shape,y_train.shape)"
   ]
  },
  {
   "cell_type": "markdown",
   "id": "15c8f131",
   "metadata": {},
   "source": [
    "# Evaluating models"
   ]
  },
  {
   "cell_type": "code",
   "execution_count": 175,
   "id": "09fa9985",
   "metadata": {},
   "outputs": [
    {
     "name": "stdout",
     "output_type": "stream",
     "text": [
      "\n",
      "Logistic Regression Results:\n",
      "\n",
      "Model Coefficients:\n",
      "[[ 0.27085886 -0.86017198  2.1629665  -0.93256293]]\n",
      "\n",
      "Cross Val Score:\n",
      "[0.9986     0.99845    0.998475   0.99885    0.99842496]\n"
     ]
    }
   ],
   "source": [
    "print(\"\\nLogistic Regression Results:\")\n",
    "log_reg = LogisticRegression()\n",
    "\n",
    "kf=KFold(n_splits=5,shuffle=True ,random_state=42)\n",
    "\n",
    "cv_results=cross_val_score(log_reg,features,label,cv=kf)\n",
    "log_reg.fit(X_train_scaled, y_train)\n",
    "print(\"\\nModel Coefficients:\")\n",
    "print(log_reg.coef_)\n",
    "print(\"\\nCross Val Score:\")\n",
    "print(cv_results)\n",
    "\n"
   ]
  },
  {
   "cell_type": "markdown",
   "id": "eb0ad127",
   "metadata": {},
   "source": [
    "# Testing and Predicting"
   ]
  },
  {
   "cell_type": "code",
   "execution_count": 177,
   "id": "64501bf1",
   "metadata": {},
   "outputs": [
    {
     "name": "stdout",
     "output_type": "stream",
     "text": [
      "Fraud Predictions: [0 0 0 0]\n",
      "Fraud Probabilities: [[9.96528861e-01 3.47113881e-03]\n",
      " [9.99992733e-01 7.26678035e-06]\n",
      " [9.99992107e-01 7.89307951e-06]\n",
      " [9.99993107e-01 6.89346538e-06]]\n"
     ]
    },
    {
     "name": "stderr",
     "output_type": "stream",
     "text": [
      "/opt/miniconda3/envs/deeplearning/lib/python3.12/site-packages/sklearn/utils/validation.py:2739: UserWarning: X does not have valid feature names, but StandardScaler was fitted with feature names\n",
      "  warnings.warn(\n"
     ]
    }
   ],
   "source": [
    "# # New transaction data\n",
    "# transaction1 = np.array([123456.78, 0.0, 1.0, 54670.1])\n",
    "# transaction2 = np.array([98765.43, 1.0, 0.0, 8524.75])\n",
    "# transaction3 = np.array([543678.31, 1.0, 0.0, 510025.5])\n",
    "# your_transaction = np.array([6472.54, 1.0, 0.0, 55901.23])\n",
    "\n",
    "# # Combining and predicting\n",
    "# sample_transactions = np.stack((transaction1, transaction2, transaction3, your_transaction))\n",
    "# sample_transactions_scaled = scaler.transform(sample_transactions)\n",
    "\n",
    "# print(\"\\nFraud Predictions for New Transactions:\")\n",
    "# for i, tx in enumerate(sample_transactions_scaled):\n",
    "#     proba = log_reg.predict_proba(tx.reshape(1, -1))[0] \n",
    "#     print(f\"Transaction {i+1}:\")\n",
    "#     print(f\"  Fraud Probability: {proba[1]:.4f}\")\n",
    "#     print(f\"  Prediction: {'Fraud' if proba[1] > 0.5 else 'Legitimate'}\")\n",
    "#     print(\"-\"*40)\n",
    "# New transaction data\n",
    "sample_transactions = np.array([\n",
    "    [123456.78, 0.0, 1.0, 54670.1],\n",
    "    [98765.43, 1.0, 0.0, 8524.75],\n",
    "    [543678.31, 1.0, 0.0, 510025.5],\n",
    "    [6472.54, 1.0, 0.0, 55901.23]\n",
    "])\n",
    "\n",
    "# Normalize new data\n",
    "sample_transactions_scaled = scaler.transform(sample_transactions)\n",
    "\n",
    "# Predict fraud\n",
    "print(\"Fraud Predictions:\", log_reg.predict(sample_transactions_scaled))\n",
    "print(\"Fraud Probabilities:\", log_reg.predict_proba(sample_transactions_scaled))"
   ]
  },
  {
   "cell_type": "markdown",
   "id": "c1400345",
   "metadata": {},
   "source": [
    "---\n",
    "\n",
    "## 📌 To-Do\n",
    "\n",
    "* Add confusion matrix and classification report\n",
    "* Try other models: Random Forest, XGBoost\n",
    "* Handle class imbalance with oversampling / weighting\n",
    "\n",
    "---"
   ]
  }
 ],
 "metadata": {
  "kernelspec": {
   "display_name": "deeplearning",
   "language": "python",
   "name": "python3"
  },
  "language_info": {
   "codemirror_mode": {
    "name": "ipython",
    "version": 3
   },
   "file_extension": ".py",
   "mimetype": "text/x-python",
   "name": "python",
   "nbconvert_exporter": "python",
   "pygments_lexer": "ipython3",
   "version": "3.12.9"
  }
 },
 "nbformat": 4,
 "nbformat_minor": 5
}
